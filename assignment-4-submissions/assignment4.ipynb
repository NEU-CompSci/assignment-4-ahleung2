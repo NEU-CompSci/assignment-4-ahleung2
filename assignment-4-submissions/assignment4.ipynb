{
  "nbformat": 4,
  "nbformat_minor": 0,
  "metadata": {
    "colab": {
      "provenance": []
    },
    "kernelspec": {
      "name": "python3",
      "display_name": "Python 3"
    },
    "language_info": {
      "name": "python"
    }
  },
  "cells": [
    {
      "cell_type": "markdown",
      "source": [
        "Aaron Leung <br>\n",
        "ahleung2 <br>\n",
        "leung.aa@northeastern.edu"
      ],
      "metadata": {
        "id": "xRvBMhL34vlP"
      }
    },
    {
      "cell_type": "markdown",
      "source": [
        "\n",
        "# CS6220 Homework 4\n"
      ],
      "metadata": {
        "id": "Qf3gvnCbpU-V"
      }
    },
    {
      "cell_type": "code",
      "source": [
        "from google.colab import drive\n",
        "drive.mount('/content/drive')"
      ],
      "metadata": {
        "id": "ABTPD0rkEb0g",
        "outputId": "49adf2ce-b17c-4eb3-ab03-90017ac66d40",
        "colab": {
          "base_uri": "https://localhost:8080/"
        }
      },
      "execution_count": 1,
      "outputs": [
        {
          "output_type": "stream",
          "name": "stdout",
          "text": [
            "Mounted at /content/drive\n"
          ]
        }
      ]
    },
    {
      "cell_type": "markdown",
      "source": [
        "## Question 1"
      ],
      "metadata": {
        "id": "GGBVicPKOjLI"
      }
    },
    {
      "cell_type": "markdown",
      "source": [
        "### 1a) Implement a simple k-means algorithm in Python on Colab"
      ],
      "metadata": {
        "id": "ibE1FShz-D8n"
      }
    },
    {
      "cell_type": "code",
      "source": [
        "import pandas as pd\n",
        "df = pd.read_csv(\"/content/drive/MyDrive/f150_motor_distributors.txt\", header=None)\n",
        "df"
      ],
      "metadata": {
        "colab": {
          "base_uri": "https://localhost:8080/",
          "height": 424
        },
        "id": "or7eRW9tsjyw",
        "outputId": "8cd39d59-667a-435e-fd4b-96424f24b704"
      },
      "execution_count": 2,
      "outputs": [
        {
          "output_type": "execute_result",
          "data": {
            "text/plain": [
              "              0         1\n",
              "0    -11.969996 -8.039628\n",
              "1    -26.961416 -6.962109\n",
              "2    -12.915849 -1.378941\n",
              "3     22.476144  2.066612\n",
              "4    -13.146631  4.835322\n",
              "...         ...       ...\n",
              "4995   6.852668  1.549076\n",
              "4996  -2.340729 -7.343469\n",
              "4997  12.925503 -0.103197\n",
              "4998 -34.336778  4.405753\n",
              "4999 -26.812739 -1.639956\n",
              "\n",
              "[5000 rows x 2 columns]"
            ],
            "text/html": [
              "\n",
              "  <div id=\"df-b1f167e6-10ed-4f57-b258-759190ff7cc4\">\n",
              "    <div class=\"colab-df-container\">\n",
              "      <div>\n",
              "<style scoped>\n",
              "    .dataframe tbody tr th:only-of-type {\n",
              "        vertical-align: middle;\n",
              "    }\n",
              "\n",
              "    .dataframe tbody tr th {\n",
              "        vertical-align: top;\n",
              "    }\n",
              "\n",
              "    .dataframe thead th {\n",
              "        text-align: right;\n",
              "    }\n",
              "</style>\n",
              "<table border=\"1\" class=\"dataframe\">\n",
              "  <thead>\n",
              "    <tr style=\"text-align: right;\">\n",
              "      <th></th>\n",
              "      <th>0</th>\n",
              "      <th>1</th>\n",
              "    </tr>\n",
              "  </thead>\n",
              "  <tbody>\n",
              "    <tr>\n",
              "      <th>0</th>\n",
              "      <td>-11.969996</td>\n",
              "      <td>-8.039628</td>\n",
              "    </tr>\n",
              "    <tr>\n",
              "      <th>1</th>\n",
              "      <td>-26.961416</td>\n",
              "      <td>-6.962109</td>\n",
              "    </tr>\n",
              "    <tr>\n",
              "      <th>2</th>\n",
              "      <td>-12.915849</td>\n",
              "      <td>-1.378941</td>\n",
              "    </tr>\n",
              "    <tr>\n",
              "      <th>3</th>\n",
              "      <td>22.476144</td>\n",
              "      <td>2.066612</td>\n",
              "    </tr>\n",
              "    <tr>\n",
              "      <th>4</th>\n",
              "      <td>-13.146631</td>\n",
              "      <td>4.835322</td>\n",
              "    </tr>\n",
              "    <tr>\n",
              "      <th>...</th>\n",
              "      <td>...</td>\n",
              "      <td>...</td>\n",
              "    </tr>\n",
              "    <tr>\n",
              "      <th>4995</th>\n",
              "      <td>6.852668</td>\n",
              "      <td>1.549076</td>\n",
              "    </tr>\n",
              "    <tr>\n",
              "      <th>4996</th>\n",
              "      <td>-2.340729</td>\n",
              "      <td>-7.343469</td>\n",
              "    </tr>\n",
              "    <tr>\n",
              "      <th>4997</th>\n",
              "      <td>12.925503</td>\n",
              "      <td>-0.103197</td>\n",
              "    </tr>\n",
              "    <tr>\n",
              "      <th>4998</th>\n",
              "      <td>-34.336778</td>\n",
              "      <td>4.405753</td>\n",
              "    </tr>\n",
              "    <tr>\n",
              "      <th>4999</th>\n",
              "      <td>-26.812739</td>\n",
              "      <td>-1.639956</td>\n",
              "    </tr>\n",
              "  </tbody>\n",
              "</table>\n",
              "<p>5000 rows × 2 columns</p>\n",
              "</div>\n",
              "      <button class=\"colab-df-convert\" onclick=\"convertToInteractive('df-b1f167e6-10ed-4f57-b258-759190ff7cc4')\"\n",
              "              title=\"Convert this dataframe to an interactive table.\"\n",
              "              style=\"display:none;\">\n",
              "        \n",
              "  <svg xmlns=\"http://www.w3.org/2000/svg\" height=\"24px\"viewBox=\"0 0 24 24\"\n",
              "       width=\"24px\">\n",
              "    <path d=\"M0 0h24v24H0V0z\" fill=\"none\"/>\n",
              "    <path d=\"M18.56 5.44l.94 2.06.94-2.06 2.06-.94-2.06-.94-.94-2.06-.94 2.06-2.06.94zm-11 1L8.5 8.5l.94-2.06 2.06-.94-2.06-.94L8.5 2.5l-.94 2.06-2.06.94zm10 10l.94 2.06.94-2.06 2.06-.94-2.06-.94-.94-2.06-.94 2.06-2.06.94z\"/><path d=\"M17.41 7.96l-1.37-1.37c-.4-.4-.92-.59-1.43-.59-.52 0-1.04.2-1.43.59L10.3 9.45l-7.72 7.72c-.78.78-.78 2.05 0 2.83L4 21.41c.39.39.9.59 1.41.59.51 0 1.02-.2 1.41-.59l7.78-7.78 2.81-2.81c.8-.78.8-2.07 0-2.86zM5.41 20L4 18.59l7.72-7.72 1.47 1.35L5.41 20z\"/>\n",
              "  </svg>\n",
              "      </button>\n",
              "      \n",
              "  <style>\n",
              "    .colab-df-container {\n",
              "      display:flex;\n",
              "      flex-wrap:wrap;\n",
              "      gap: 12px;\n",
              "    }\n",
              "\n",
              "    .colab-df-convert {\n",
              "      background-color: #E8F0FE;\n",
              "      border: none;\n",
              "      border-radius: 50%;\n",
              "      cursor: pointer;\n",
              "      display: none;\n",
              "      fill: #1967D2;\n",
              "      height: 32px;\n",
              "      padding: 0 0 0 0;\n",
              "      width: 32px;\n",
              "    }\n",
              "\n",
              "    .colab-df-convert:hover {\n",
              "      background-color: #E2EBFA;\n",
              "      box-shadow: 0px 1px 2px rgba(60, 64, 67, 0.3), 0px 1px 3px 1px rgba(60, 64, 67, 0.15);\n",
              "      fill: #174EA6;\n",
              "    }\n",
              "\n",
              "    [theme=dark] .colab-df-convert {\n",
              "      background-color: #3B4455;\n",
              "      fill: #D2E3FC;\n",
              "    }\n",
              "\n",
              "    [theme=dark] .colab-df-convert:hover {\n",
              "      background-color: #434B5C;\n",
              "      box-shadow: 0px 1px 3px 1px rgba(0, 0, 0, 0.15);\n",
              "      filter: drop-shadow(0px 1px 2px rgba(0, 0, 0, 0.3));\n",
              "      fill: #FFFFFF;\n",
              "    }\n",
              "  </style>\n",
              "\n",
              "      <script>\n",
              "        const buttonEl =\n",
              "          document.querySelector('#df-b1f167e6-10ed-4f57-b258-759190ff7cc4 button.colab-df-convert');\n",
              "        buttonEl.style.display =\n",
              "          google.colab.kernel.accessAllowed ? 'block' : 'none';\n",
              "\n",
              "        async function convertToInteractive(key) {\n",
              "          const element = document.querySelector('#df-b1f167e6-10ed-4f57-b258-759190ff7cc4');\n",
              "          const dataTable =\n",
              "            await google.colab.kernel.invokeFunction('convertToInteractive',\n",
              "                                                     [key], {});\n",
              "          if (!dataTable) return;\n",
              "\n",
              "          const docLinkHtml = 'Like what you see? Visit the ' +\n",
              "            '<a target=\"_blank\" href=https://colab.research.google.com/notebooks/data_table.ipynb>data table notebook</a>'\n",
              "            + ' to learn more about interactive tables.';\n",
              "          element.innerHTML = '';\n",
              "          dataTable['output_type'] = 'display_data';\n",
              "          await google.colab.output.renderOutput(dataTable, element);\n",
              "          const docLink = document.createElement('div');\n",
              "          docLink.innerHTML = docLinkHtml;\n",
              "          element.appendChild(docLink);\n",
              "        }\n",
              "      </script>\n",
              "    </div>\n",
              "  </div>\n",
              "  "
            ]
          },
          "metadata": {},
          "execution_count": 2
        }
      ]
    },
    {
      "cell_type": "code",
      "source": [
        "import numpy as np\n",
        "\n",
        "data = df.to_numpy()\n",
        "data"
      ],
      "metadata": {
        "colab": {
          "base_uri": "https://localhost:8080/"
        },
        "id": "Lah2FWiAuHrJ",
        "outputId": "41918993-db33-4e07-d6fe-db0c2832140e"
      },
      "execution_count": 3,
      "outputs": [
        {
          "output_type": "execute_result",
          "data": {
            "text/plain": [
              "array([[-11.96999577,  -8.03962819],\n",
              "       [-26.96141582,  -6.96210943],\n",
              "       [-12.91584891,  -1.37894148],\n",
              "       ...,\n",
              "       [ 12.92550271,  -0.10319682],\n",
              "       [-34.33677838,   4.4057531 ],\n",
              "       [-26.81273855,  -1.63995599]])"
            ]
          },
          "metadata": {},
          "execution_count": 3
        }
      ]
    },
    {
      "cell_type": "code",
      "source": [
        "\"\"\"\n",
        "Helper function to calculate the euclidean distance\n",
        "\"\"\"\n",
        "def get_distance(point_1, point_2):\n",
        "        return ((point_1[0] - point_2[0]) **2 + (point_1[1] - point_2[1]) **2) ** 0.5"
      ],
      "metadata": {
        "id": "svPmHH2u-V1O"
      },
      "execution_count": 4,
      "outputs": []
    },
    {
      "cell_type": "code",
      "source": [
        "# testing helper function\n",
        "get_distance([2,0], [4,5])"
      ],
      "metadata": {
        "colab": {
          "base_uri": "https://localhost:8080/"
        },
        "id": "gUrEWIvG_Qps",
        "outputId": "dd17d80a-9f50-4a39-e75f-e0c49dbd6627"
      },
      "execution_count": 5,
      "outputs": [
        {
          "output_type": "execute_result",
          "data": {
            "text/plain": [
              "5.385164807134504"
            ]
          },
          "metadata": {},
          "execution_count": 5
        }
      ]
    },
    {
      "cell_type": "code",
      "source": [
        "\"\"\"\n",
        "Creating KMeans class that includes constructor and method fit\n",
        "\"\"\"\n",
        "class KMeans:\n",
        "    \"\"\"\n",
        "    constructor that sets k equal to specified input and max iteration to 100\n",
        "    \"\"\"\n",
        "    def __init__(self, k, max_iterations=100):\n",
        "        self.k = k\n",
        "        self.max_iterations = max_iterations\n",
        "\n",
        "    \"\"\"\n",
        "    fit function contains the following main steps:\n",
        "    1) initialize centroids\n",
        "    2) assign each point to the closest centroid\n",
        "    3) update centroids\n",
        "    4) repeat steps 2 and 3 max_iterations\n",
        "    5) calculate labels\n",
        "    \"\"\"\n",
        "    def fit(self, data):\n",
        "        self.centroids = np.array([[10,10], [-10,-10],[2, 2], [3, 3], [-3, -3]])\n",
        "\n",
        "        for i in range(self.max_iterations):\n",
        "            # create empty list, one for each cluster (5 total)\n",
        "            clusters = [[] for count in range(self.k)]\n",
        "\n",
        "            # Assign each data point to the closest centroid\n",
        "            for point in data:\n",
        "                # calculate the distance between each point to each centroid, store in list\n",
        "                distances = [get_distance(point, centroid) for centroid in self.centroids]\n",
        "\n",
        "                # argmin returns the indices of the minimum value (distances)\n",
        "                # this index corresponds to the closest cluster\n",
        "                index = np.argmin(distances)\n",
        "\n",
        "                # assign point to closest cluster\n",
        "                clusters[index].append(point)\n",
        "            \n",
        "            # Update the centroids to the mean of their assigned data points\n",
        "            for j in range(self.k):\n",
        "                self.centroids[j] = np.mean(clusters[j], axis=0)\n",
        "        \n",
        "        # creating labels for each point in the dataset\n",
        "        self.labels = []\n",
        "        for point in data:\n",
        "          distances = [get_distance(point, centroid) for centroid in self.centroids]\n",
        "          index = np.argmin(distances)\n",
        "          self.labels.append(index)\n",
        "\n"
      ],
      "metadata": {
        "id": "pCNvpct48BBV"
      },
      "execution_count": 6,
      "outputs": []
    },
    {
      "cell_type": "markdown",
      "source": [
        "### 1b) Scatter the results in two dimensions with different clusters as different colors. "
      ],
      "metadata": {
        "id": "0Ei_TMzV-MKD"
      }
    },
    {
      "cell_type": "code",
      "source": [
        "# Creating instance of KMeans and calling fit method\n",
        "kmeans = KMeans(k=5)\n",
        "kmeans.fit(data)\n",
        "\n",
        "# Storing the labels assigned to each point\n",
        "predictions = kmeans.labels\n",
        "\n",
        "# Visualize the clusters\n",
        "import matplotlib.pyplot as plt\n",
        "\n",
        "# color based on labels (predictions)\n",
        "plt.scatter(data[:, 0], data[:, 1], c=predictions)\n",
        "plt.xlabel(\"Timing Speed\")\n",
        "plt.ylabel(\"Coil Gaps\")\n",
        "plt.show()\n"
      ],
      "metadata": {
        "colab": {
          "base_uri": "https://localhost:8080/",
          "height": 279
        },
        "id": "ruR6bh6yRiQz",
        "outputId": "27f4f936-1463-44df-fe14-80b64200c5a9"
      },
      "execution_count": 7,
      "outputs": [
        {
          "output_type": "display_data",
          "data": {
            "text/plain": [
              "<Figure size 432x288 with 1 Axes>"
            ],
            "image/png": "[encoded data removed]"
          },
          "metadata": {
            "needs_background": "light"
          }
        }
      ]
    },
    {
      "cell_type": "code",
      "source": [
        "# Checking centroids after max_iterations\n",
        "kmeans.centroids"
      ],
      "metadata": {
        "colab": {
          "base_uri": "https://localhost:8080/"
        },
        "id": "HT338H90-sni",
        "outputId": "bcd6d077-3ad5-42b9-a565-8184301ff8e7"
      },
      "execution_count": 8,
      "outputs": [
        {
          "output_type": "execute_result",
          "data": {
            "text/plain": [
              "array([[ 26,  -1],\n",
              "       [-30,   2],\n",
              "       [  0,  -2],\n",
              "       [ 11,  -1],\n",
              "       [-12,   0]])"
            ]
          },
          "metadata": {},
          "execution_count": 8
        }
      ]
    },
    {
      "cell_type": "code",
      "source": [
        "# Verifying results from 1b) with sklearn\n",
        "from sklearn.cluster import KMeans\n",
        "\n",
        "Cluster = KMeans(n_clusters=5)\n",
        "Cluster.fit(data)\n",
        "predictions_sklearn = Cluster.predict(data)\n",
        "plt.xlabel(\"Timing Speed\")\n",
        "plt.ylabel(\"Coil Gaps\")\n",
        "plt.scatter(data[:,0], data[:, 1], c=predictions_sklearn)"
      ],
      "metadata": {
        "colab": {
          "base_uri": "https://localhost:8080/",
          "height": 296
        },
        "id": "ryrekZIZICA1",
        "outputId": "eb672ff9-6937-40a2-c502-2f1e931e9ca4"
      },
      "execution_count": 9,
      "outputs": [
        {
          "output_type": "execute_result",
          "data": {
            "text/plain": [
              "<matplotlib.collections.PathCollection at 0x7f0c553f7d90>"
            ]
          },
          "metadata": {},
          "execution_count": 9
        },
        {
          "output_type": "display_data",
          "data": {
            "text/plain": [
              "<Figure size 432x288 with 1 Axes>"
            ],
            "image/png": "[encoded data removed]"
          },
          "metadata": {
            "needs_background": "light"
          }
        }
      ]
    },
    {
      "cell_type": "markdown",
      "source": [
        "### 1c) You will notice that in the above, there are only five initialization clusters. Why is k = 5 a logical choice for this dataset? After plotting your resulting clusters, what do you notice? Did it cluster very well? Is there an initialization that would make it cluster well?"
      ],
      "metadata": {
        "id": "3F9QTdjy_Iif"
      }
    },
    {
      "cell_type": "markdown",
      "source": [
        "Based on the problem description, we know that the data includes the timing speed and ignition coil gaps for production over the years 1996, 1999, 2006, 2015 and 2022.  In other words, 5 distinct years.  Therefore, it is reasonable to expect 5 different clusters and thus k = 5 is a logical choice for this dataset.  \n",
        "\n",
        "I think using the euclidean distance in kmeans clustering does not result in optimal clustering.  An important property and goal of kmeans clustering is that the data points from different clusters should be as different as possible.  However, based on the clustering as shown in the graphs above, it is difficult to extract any meaningful data.  For instance, the turqoise and dark blue points in the top most cluster have similar properties: they both have high values for coil gaps and timing speed respectively.\n",
        "\n",
        "To test whether there is a better initialization, I will calculate the initial centroids using KMeans++ by using sklearn library.  The benefits of using KMeans++ is that it attempts to spread out the initial centroids.  I will then use these newly calculate centroids to create a new scatter plot and see how well it clusters.  "
      ],
      "metadata": {
        "id": "5Ut2iSjO_Npe"
      }
    },
    {
      "cell_type": "code",
      "source": [
        "# https://scikit-learn.org/stable/modules/generated/sklearn.cluster.KMeans.html\n",
        "from sklearn.cluster import KMeans\n",
        "\n",
        "kmeans_plus = KMeans(n_clusters=5, init='k-means++')\n",
        "\n",
        "kmeans_plus.fit(data)\n",
        "\n",
        "centroids_plus = kmeans_plus.cluster_centers_"
      ],
      "metadata": {
        "id": "m0TvtKGnAQur"
      },
      "execution_count": 10,
      "outputs": []
    },
    {
      "cell_type": "code",
      "source": [
        "# Printing out 5 new centroids\n",
        "centroids_plus"
      ],
      "metadata": {
        "colab": {
          "base_uri": "https://localhost:8080/"
        },
        "id": "5SZ0NE09BTPK",
        "outputId": "fe93a4b9-e8e7-438f-d5d4-4680561cce64"
      },
      "execution_count": 11,
      "outputs": [
        {
          "output_type": "execute_result",
          "data": {
            "text/plain": [
              "array([[ 11.67968701,  -1.68998358],\n",
              "       [-31.99173589,   2.60523378],\n",
              "       [-14.55648626,  -0.53454495],\n",
              "       [ 27.35392694,  -1.09471392],\n",
              "       [ -1.05933776,  -2.28033535]])"
            ]
          },
          "metadata": {},
          "execution_count": 11
        }
      ]
    },
    {
      "cell_type": "code",
      "source": [
        "\"\"\"\n",
        "KMeans using centroids generated from Kmeans++\n",
        "\"\"\"\n",
        "class KMeans_plus:\n",
        "    # constructor that sets k equal to specified input and max iteration to 100\n",
        "    def __init__(self, k, max_iterations=100):\n",
        "        self.k = k\n",
        "        self.max_iterations = max_iterations\n",
        "\n",
        "    def fit(self, data):\n",
        "        self.centroids = np.array([[11.67968701,  -1.68998358], [-31.99173589,   2.60523378],[-14.55648626,  -0.53454495], [27.35392694,  -1.09471392], [-1.05933776,  -2.28033535]])\n",
        "        for i in range(self.max_iterations):\n",
        "            # create empty list, one for each cluster (5 total)\n",
        "            clusters = [[] for count in range(self.k)]\n",
        "\n",
        "            # Assign each data point to the closest centroid\n",
        "            for point in data:\n",
        "                # calculate the distance between each point to each centroid, store in list\n",
        "                distances = [get_distance(point, centroid) for centroid in self.centroids]\n",
        "\n",
        "                # argmin returns the indices of the minimum value (distances)\n",
        "                # this index corresponds to the closest cluster\n",
        "                index = np.argmin(distances)\n",
        "\n",
        "                # assign point to closest cluster\n",
        "                clusters[index].append(point)\n",
        "            \n",
        "            # Update the centroids to the mean of their assigned data points\n",
        "            for j in range(self.k):\n",
        "                self.centroids[j] = np.mean(clusters[j], axis=0)\n",
        "        \n",
        "        # creating labels for each point in the dataset\n",
        "        self.labels = []\n",
        "        for point in data:\n",
        "          distances = [get_distance(point, centroid) for centroid in self.centroids]\n",
        "          index = np.argmin(distances)\n",
        "          self.labels.append(index)\n",
        "\n"
      ],
      "metadata": {
        "id": "cNOUeKy_BdoJ"
      },
      "execution_count": 30,
      "outputs": []
    },
    {
      "cell_type": "code",
      "source": [
        "\"\"\"\n",
        "Plotting scatter plot and comparing it to results in 1b)\n",
        "\"\"\"\n",
        "kmeans_plus = KMeans_plus(k=5)\n",
        "kmeans_plus.fit(data)\n",
        "\n",
        "predictions_plus = kmeans_plus.labels\n",
        "\n",
        "# Visualize the clusters\n",
        "import matplotlib.pyplot as plt\n",
        "plt.xlabel(\"Timing Speed\")\n",
        "plt.ylabel(\"Coil Gaps\")\n",
        "plt.scatter(data[:, 0], data[:, 1], c=predictions_plus)\n",
        "plt.show()"
      ],
      "metadata": {
        "colab": {
          "base_uri": "https://localhost:8080/",
          "height": 279
        },
        "id": "zCXuVgVeB9aB",
        "outputId": "27cd8489-098d-491c-ce02-4816caaad05e"
      },
      "execution_count": 31,
      "outputs": [
        {
          "output_type": "display_data",
          "data": {
            "text/plain": [
              "<Figure size 432x288 with 1 Axes>"
            ],
            "image/png": "[encoded data removed]"
          },
          "metadata": {
            "needs_background": "light"
          }
        }
      ]
    },
    {
      "cell_type": "markdown",
      "source": [
        "If we compare the two scatterplots (initial initialization and new initialization), we can see that the clusters do not change.  Therefore, I think we can conclude that there is not a better initialization that would make it cluster well.  "
      ],
      "metadata": {
        "id": "zlKvGIs_FM0U"
      }
    },
    {
      "cell_type": "markdown",
      "source": [
        "## Question 2"
      ],
      "metadata": {
        "id": "l21XHPHbmlnE"
      }
    },
    {
      "cell_type": "markdown",
      "source": [
        "### 2a) Using the same data as Question 1 and the same initialization instances {x1, x2, x3, x4, x5} implement a specialized k-means with the above Mahalanobis Distance. Scatter the results with the different clusters as different colors."
      ],
      "metadata": {
        "id": "V2jp9M_pmrnK"
      }
    },
    {
      "cell_type": "code",
      "source": [
        "\"\"\"\n",
        "@ is the matrix multiplication operator\n",
        "Function that calculates mahalanobis distance\n",
        "\"\"\"\n",
        "import numpy\n",
        "from math import sqrt\n",
        "def mahalanobis_distance(x, y, matrixP_prime):\n",
        "  distance = ((x-y).T @ matrixP_prime @ (x-y))\n",
        "  return distance"
      ],
      "metadata": {
        "id": "1kvtjmodJFKF"
      },
      "execution_count": 14,
      "outputs": []
    },
    {
      "cell_type": "code",
      "source": [
        "\"\"\"\n",
        "Creating modified KMeans class that uses mahalanobis distance\n",
        "\"\"\"\n",
        "class KMeans_mahalanobis:\n",
        "    # constructor that sets k equal to specified input and max iteration to 100\n",
        "    def __init__(self, k, matrixP_prime, max_iterations=100):\n",
        "        self.k = k\n",
        "        self.max_iterations = max_iterations\n",
        "        self.matrixP_prime = matrixP_prime\n",
        "\n",
        "    def fit_m(self, data):\n",
        "        self.centroids = np.array([[10.0,10.0], [-10.0,-10.0],[2.0, 2.0], [3.0, 3.0], [-3.0, -3.0]])\n",
        "\n",
        "        for i in range(self.max_iterations):\n",
        "            # create empty list, one for each cluster (5 total)\n",
        "            clusters = [[] for count in range(self.k)]\n",
        "\n",
        "            # Assign each data point to the closest centroid\n",
        "            for point in data:\n",
        "                # calculate the distance between each point to each centroid, store in list\n",
        "                distances = [mahalanobis_distance(point, centroid, self.matrixP_prime) for centroid in self.centroids]\n",
        "\n",
        "                # argmin returns the indices of the minimum value (distances)\n",
        "                # this index corresponds to a closet cluster\n",
        "                index = np.argmin(distances)\n",
        "\n",
        "                # assign point to closest cluster\n",
        "                clusters[index].append(point)\n",
        "            \n",
        "            # Update the centroids using mean \n",
        "            for j in range(self.k):\n",
        "                self.centroids[j] = np.mean(clusters[j], axis=0)\n",
        "\n",
        "        # creating labels for each point in the dataset\n",
        "        self.labels = []\n",
        "        for point in data:\n",
        "          distances = [mahalanobis_distance(point, centroid, self.matrixP_prime) for centroid in self.centroids]\n",
        "          index = np.argmin(distances)\n",
        "          self.labels.append(index)\n",
        "        \n",
        "        # returning clusters\n",
        "        return clusters\n",
        "\n"
      ],
      "metadata": {
        "id": "2rz4jBDAI9Cr"
      },
      "execution_count": 15,
      "outputs": []
    },
    {
      "cell_type": "code",
      "source": [
        "\"\"\"\n",
        "Graphing scatter plot of kmeans using mahalanobis distance\n",
        "\"\"\"\n",
        "matrixP = np.array([[10.0, 0.5], [-10.0, 0.25]])\n",
        "\n",
        "# calculating matrixP_prime beforehand so we don't need to compute it each iteration\n",
        "R = np.dot(matrixP.T, matrixP)\n",
        "inverse_R = np.linalg.inv(R)\n",
        "kmeans_mahalanobis = KMeans_mahalanobis(k=5, matrixP_prime = inverse_R)\n",
        "\n",
        "# returning clusters\n",
        "clusters = kmeans_mahalanobis.fit_m(data)\n",
        "\n",
        "predictions_m = kmeans_mahalanobis.labels\n",
        "\n",
        "# Visualize the clusters\n",
        "import matplotlib.pyplot as plt\n",
        "plt.xlabel(\"Timing Speed\")\n",
        "plt.ylabel(\"Coil Gaps\")\n",
        "plt.scatter(data[:, 0], data[:, 1], c=predictions_m)\n",
        "plt.show()"
      ],
      "metadata": {
        "colab": {
          "base_uri": "https://localhost:8080/",
          "height": 279
        },
        "id": "nFjDLHPuLEa0",
        "outputId": "10c508a0-f8b5-4f4a-a74f-fb7a7de6055a"
      },
      "execution_count": 16,
      "outputs": [
        {
          "output_type": "display_data",
          "data": {
            "text/plain": [
              "<Figure size 432x288 with 1 Axes>"
            ],
            "image/png": "[encoded data removed]"
          },
          "metadata": {
            "needs_background": "light"
          }
        }
      ]
    },
    {
      "cell_type": "markdown",
      "source": [
        "Observations: Kmeans using Mahalanobis Distance results in better clustering.  We can see that the data points in each cluster differ from each other, mainly by the coil gap property."
      ],
      "metadata": {
        "id": "CdN9Biq0m0JZ"
      }
    },
    {
      "cell_type": "markdown",
      "source": [
        "### 2b) Calculate and print out the principle components of the aggregate data."
      ],
      "metadata": {
        "id": "ojV2iBrx8EL8"
      }
    },
    {
      "cell_type": "markdown",
      "source": [
        "I will be using built in library to calculate the pca for the aggregate data.  Additionally, I will not be preprocessing the data like we did in the previous assignment.  "
      ],
      "metadata": {
        "id": "CX39u7rvstuY"
      }
    },
    {
      "cell_type": "code",
      "source": [
        "df"
      ],
      "metadata": {
        "colab": {
          "base_uri": "https://localhost:8080/",
          "height": 424
        },
        "id": "NDa2Ht4d_bm0",
        "outputId": "9f9061b9-9cf9-43af-a1a9-8849669e2add"
      },
      "execution_count": 17,
      "outputs": [
        {
          "output_type": "execute_result",
          "data": {
            "text/plain": [
              "              0         1\n",
              "0    -11.969996 -8.039628\n",
              "1    -26.961416 -6.962109\n",
              "2    -12.915849 -1.378941\n",
              "3     22.476144  2.066612\n",
              "4    -13.146631  4.835322\n",
              "...         ...       ...\n",
              "4995   6.852668  1.549076\n",
              "4996  -2.340729 -7.343469\n",
              "4997  12.925503 -0.103197\n",
              "4998 -34.336778  4.405753\n",
              "4999 -26.812739 -1.639956\n",
              "\n",
              "[5000 rows x 2 columns]"
            ],
            "text/html": [
              "\n",
              "  <div id=\"df-818fe211-466e-4953-bb39-48e8b74b4023\">\n",
              "    <div class=\"colab-df-container\">\n",
              "      <div>\n",
              "<style scoped>\n",
              "    .dataframe tbody tr th:only-of-type {\n",
              "        vertical-align: middle;\n",
              "    }\n",
              "\n",
              "    .dataframe tbody tr th {\n",
              "        vertical-align: top;\n",
              "    }\n",
              "\n",
              "    .dataframe thead th {\n",
              "        text-align: right;\n",
              "    }\n",
              "</style>\n",
              "<table border=\"1\" class=\"dataframe\">\n",
              "  <thead>\n",
              "    <tr style=\"text-align: right;\">\n",
              "      <th></th>\n",
              "      <th>0</th>\n",
              "      <th>1</th>\n",
              "    </tr>\n",
              "  </thead>\n",
              "  <tbody>\n",
              "    <tr>\n",
              "      <th>0</th>\n",
              "      <td>-11.969996</td>\n",
              "      <td>-8.039628</td>\n",
              "    </tr>\n",
              "    <tr>\n",
              "      <th>1</th>\n",
              "      <td>-26.961416</td>\n",
              "      <td>-6.962109</td>\n",
              "    </tr>\n",
              "    <tr>\n",
              "      <th>2</th>\n",
              "      <td>-12.915849</td>\n",
              "      <td>-1.378941</td>\n",
              "    </tr>\n",
              "    <tr>\n",
              "      <th>3</th>\n",
              "      <td>22.476144</td>\n",
              "      <td>2.066612</td>\n",
              "    </tr>\n",
              "    <tr>\n",
              "      <th>4</th>\n",
              "      <td>-13.146631</td>\n",
              "      <td>4.835322</td>\n",
              "    </tr>\n",
              "    <tr>\n",
              "      <th>...</th>\n",
              "      <td>...</td>\n",
              "      <td>...</td>\n",
              "    </tr>\n",
              "    <tr>\n",
              "      <th>4995</th>\n",
              "      <td>6.852668</td>\n",
              "      <td>1.549076</td>\n",
              "    </tr>\n",
              "    <tr>\n",
              "      <th>4996</th>\n",
              "      <td>-2.340729</td>\n",
              "      <td>-7.343469</td>\n",
              "    </tr>\n",
              "    <tr>\n",
              "      <th>4997</th>\n",
              "      <td>12.925503</td>\n",
              "      <td>-0.103197</td>\n",
              "    </tr>\n",
              "    <tr>\n",
              "      <th>4998</th>\n",
              "      <td>-34.336778</td>\n",
              "      <td>4.405753</td>\n",
              "    </tr>\n",
              "    <tr>\n",
              "      <th>4999</th>\n",
              "      <td>-26.812739</td>\n",
              "      <td>-1.639956</td>\n",
              "    </tr>\n",
              "  </tbody>\n",
              "</table>\n",
              "<p>5000 rows × 2 columns</p>\n",
              "</div>\n",
              "      <button class=\"colab-df-convert\" onclick=\"convertToInteractive('df-818fe211-466e-4953-bb39-48e8b74b4023')\"\n",
              "              title=\"Convert this dataframe to an interactive table.\"\n",
              "              style=\"display:none;\">\n",
              "        \n",
              "  <svg xmlns=\"http://www.w3.org/2000/svg\" height=\"24px\"viewBox=\"0 0 24 24\"\n",
              "       width=\"24px\">\n",
              "    <path d=\"M0 0h24v24H0V0z\" fill=\"none\"/>\n",
              "    <path d=\"M18.56 5.44l.94 2.06.94-2.06 2.06-.94-2.06-.94-.94-2.06-.94 2.06-2.06.94zm-11 1L8.5 8.5l.94-2.06 2.06-.94-2.06-.94L8.5 2.5l-.94 2.06-2.06.94zm10 10l.94 2.06.94-2.06 2.06-.94-2.06-.94-.94-2.06-.94 2.06-2.06.94z\"/><path d=\"M17.41 7.96l-1.37-1.37c-.4-.4-.92-.59-1.43-.59-.52 0-1.04.2-1.43.59L10.3 9.45l-7.72 7.72c-.78.78-.78 2.05 0 2.83L4 21.41c.39.39.9.59 1.41.59.51 0 1.02-.2 1.41-.59l7.78-7.78 2.81-2.81c.8-.78.8-2.07 0-2.86zM5.41 20L4 18.59l7.72-7.72 1.47 1.35L5.41 20z\"/>\n",
              "  </svg>\n",
              "      </button>\n",
              "      \n",
              "  <style>\n",
              "    .colab-df-container {\n",
              "      display:flex;\n",
              "      flex-wrap:wrap;\n",
              "      gap: 12px;\n",
              "    }\n",
              "\n",
              "    .colab-df-convert {\n",
              "      background-color: #E8F0FE;\n",
              "      border: none;\n",
              "      border-radius: 50%;\n",
              "      cursor: pointer;\n",
              "      display: none;\n",
              "      fill: #1967D2;\n",
              "      height: 32px;\n",
              "      padding: 0 0 0 0;\n",
              "      width: 32px;\n",
              "    }\n",
              "\n",
              "    .colab-df-convert:hover {\n",
              "      background-color: #E2EBFA;\n",
              "      box-shadow: 0px 1px 2px rgba(60, 64, 67, 0.3), 0px 1px 3px 1px rgba(60, 64, 67, 0.15);\n",
              "      fill: #174EA6;\n",
              "    }\n",
              "\n",
              "    [theme=dark] .colab-df-convert {\n",
              "      background-color: #3B4455;\n",
              "      fill: #D2E3FC;\n",
              "    }\n",
              "\n",
              "    [theme=dark] .colab-df-convert:hover {\n",
              "      background-color: #434B5C;\n",
              "      box-shadow: 0px 1px 3px 1px rgba(0, 0, 0, 0.15);\n",
              "      filter: drop-shadow(0px 1px 2px rgba(0, 0, 0, 0.3));\n",
              "      fill: #FFFFFF;\n",
              "    }\n",
              "  </style>\n",
              "\n",
              "      <script>\n",
              "        const buttonEl =\n",
              "          document.querySelector('#df-818fe211-466e-4953-bb39-48e8b74b4023 button.colab-df-convert');\n",
              "        buttonEl.style.display =\n",
              "          google.colab.kernel.accessAllowed ? 'block' : 'none';\n",
              "\n",
              "        async function convertToInteractive(key) {\n",
              "          const element = document.querySelector('#df-818fe211-466e-4953-bb39-48e8b74b4023');\n",
              "          const dataTable =\n",
              "            await google.colab.kernel.invokeFunction('convertToInteractive',\n",
              "                                                     [key], {});\n",
              "          if (!dataTable) return;\n",
              "\n",
              "          const docLinkHtml = 'Like what you see? Visit the ' +\n",
              "            '<a target=\"_blank\" href=https://colab.research.google.com/notebooks/data_table.ipynb>data table notebook</a>'\n",
              "            + ' to learn more about interactive tables.';\n",
              "          element.innerHTML = '';\n",
              "          dataTable['output_type'] = 'display_data';\n",
              "          await google.colab.output.renderOutput(dataTable, element);\n",
              "          const docLink = document.createElement('div');\n",
              "          docLink.innerHTML = docLinkHtml;\n",
              "          element.appendChild(docLink);\n",
              "        }\n",
              "      </script>\n",
              "    </div>\n",
              "  </div>\n",
              "  "
            ]
          },
          "metadata": {},
          "execution_count": 17
        }
      ]
    },
    {
      "cell_type": "code",
      "source": [
        "\"\"\"\n",
        "Using built in library to calculate pca for aggregate data\n",
        "\"\"\"\n",
        "from sklearn.decomposition import PCA\n",
        "\n",
        "# Two components of PCA\n",
        "pca = PCA()\n",
        "\n",
        "# Fit on data\n",
        "pca.fit(data)\n",
        "\n",
        "# Access values and vectors\n",
        "print(\"PCA of aggregate data:\")\n",
        "print(\"pca components\")\n",
        "print(pca.components_)\n",
        "print(\"pca explained variance\")\n",
        "print(pca.explained_variance_)\n",
        "\n"
      ],
      "metadata": {
        "colab": {
          "base_uri": "https://localhost:8080/"
        },
        "id": "Z0_9F2k0-pI6",
        "outputId": "c67918b1-1388-4540-84af-1d20e441bb71"
      },
      "execution_count": 18,
      "outputs": [
        {
          "output_type": "stream",
          "name": "stdout",
          "text": [
            "PCA of aggregate data:\n",
            "pca components\n",
            "[[-0.99838317  0.05684225]\n",
            " [-0.05684225 -0.99838317]]\n",
            "pca explained variance\n",
            "[322.50713273  17.38845582]\n"
          ]
        }
      ]
    },
    {
      "cell_type": "markdown",
      "source": [
        "### 2c) Calculate and print out the principle components of each cluster. Are they the same as the aggregate data? Are they the same as each other?"
      ],
      "metadata": {
        "id": "iW1UqvwUvgY5"
      }
    },
    {
      "cell_type": "code",
      "source": [
        "df['label'] = predictions_m"
      ],
      "metadata": {
        "id": "SquMRN3eC9HS"
      },
      "execution_count": 19,
      "outputs": []
    },
    {
      "cell_type": "markdown",
      "source": [
        "#### Adding label column for each point (for visualization purposes). Labels are from 0 through 4 since it is based on indices."
      ],
      "metadata": {
        "id": "pW44ZXSFRvKv"
      }
    },
    {
      "cell_type": "code",
      "source": [
        "df"
      ],
      "metadata": {
        "colab": {
          "base_uri": "https://localhost:8080/",
          "height": 424
        },
        "id": "PsxvTaZjDH-H",
        "outputId": "d1ac0bde-0cfe-4697-be29-95ed532d6e6f"
      },
      "execution_count": 20,
      "outputs": [
        {
          "output_type": "execute_result",
          "data": {
            "text/plain": [
              "              0         1  label\n",
              "0    -11.969996 -8.039628      1\n",
              "1    -26.961416 -6.962109      1\n",
              "2    -12.915849 -1.378941      2\n",
              "3     22.476144  2.066612      3\n",
              "4    -13.146631  4.835322      0\n",
              "...         ...       ...    ...\n",
              "4995   6.852668  1.549076      3\n",
              "4996  -2.340729 -7.343469      1\n",
              "4997  12.925503 -0.103197      2\n",
              "4998 -34.336778  4.405753      0\n",
              "4999 -26.812739 -1.639956      2\n",
              "\n",
              "[5000 rows x 3 columns]"
            ],
            "text/html": [
              "\n",
              "  <div id=\"df-59c67323-e99c-4d6b-a034-c92dbccd79c9\">\n",
              "    <div class=\"colab-df-container\">\n",
              "      <div>\n",
              "<style scoped>\n",
              "    .dataframe tbody tr th:only-of-type {\n",
              "        vertical-align: middle;\n",
              "    }\n",
              "\n",
              "    .dataframe tbody tr th {\n",
              "        vertical-align: top;\n",
              "    }\n",
              "\n",
              "    .dataframe thead th {\n",
              "        text-align: right;\n",
              "    }\n",
              "</style>\n",
              "<table border=\"1\" class=\"dataframe\">\n",
              "  <thead>\n",
              "    <tr style=\"text-align: right;\">\n",
              "      <th></th>\n",
              "      <th>0</th>\n",
              "      <th>1</th>\n",
              "      <th>label</th>\n",
              "    </tr>\n",
              "  </thead>\n",
              "  <tbody>\n",
              "    <tr>\n",
              "      <th>0</th>\n",
              "      <td>-11.969996</td>\n",
              "      <td>-8.039628</td>\n",
              "      <td>1</td>\n",
              "    </tr>\n",
              "    <tr>\n",
              "      <th>1</th>\n",
              "      <td>-26.961416</td>\n",
              "      <td>-6.962109</td>\n",
              "      <td>1</td>\n",
              "    </tr>\n",
              "    <tr>\n",
              "      <th>2</th>\n",
              "      <td>-12.915849</td>\n",
              "      <td>-1.378941</td>\n",
              "      <td>2</td>\n",
              "    </tr>\n",
              "    <tr>\n",
              "      <th>3</th>\n",
              "      <td>22.476144</td>\n",
              "      <td>2.066612</td>\n",
              "      <td>3</td>\n",
              "    </tr>\n",
              "    <tr>\n",
              "      <th>4</th>\n",
              "      <td>-13.146631</td>\n",
              "      <td>4.835322</td>\n",
              "      <td>0</td>\n",
              "    </tr>\n",
              "    <tr>\n",
              "      <th>...</th>\n",
              "      <td>...</td>\n",
              "      <td>...</td>\n",
              "      <td>...</td>\n",
              "    </tr>\n",
              "    <tr>\n",
              "      <th>4995</th>\n",
              "      <td>6.852668</td>\n",
              "      <td>1.549076</td>\n",
              "      <td>3</td>\n",
              "    </tr>\n",
              "    <tr>\n",
              "      <th>4996</th>\n",
              "      <td>-2.340729</td>\n",
              "      <td>-7.343469</td>\n",
              "      <td>1</td>\n",
              "    </tr>\n",
              "    <tr>\n",
              "      <th>4997</th>\n",
              "      <td>12.925503</td>\n",
              "      <td>-0.103197</td>\n",
              "      <td>2</td>\n",
              "    </tr>\n",
              "    <tr>\n",
              "      <th>4998</th>\n",
              "      <td>-34.336778</td>\n",
              "      <td>4.405753</td>\n",
              "      <td>0</td>\n",
              "    </tr>\n",
              "    <tr>\n",
              "      <th>4999</th>\n",
              "      <td>-26.812739</td>\n",
              "      <td>-1.639956</td>\n",
              "      <td>2</td>\n",
              "    </tr>\n",
              "  </tbody>\n",
              "</table>\n",
              "<p>5000 rows × 3 columns</p>\n",
              "</div>\n",
              "      <button class=\"colab-df-convert\" onclick=\"convertToInteractive('df-59c67323-e99c-4d6b-a034-c92dbccd79c9')\"\n",
              "              title=\"Convert this dataframe to an interactive table.\"\n",
              "              style=\"display:none;\">\n",
              "        \n",
              "  <svg xmlns=\"http://www.w3.org/2000/svg\" height=\"24px\"viewBox=\"0 0 24 24\"\n",
              "       width=\"24px\">\n",
              "    <path d=\"M0 0h24v24H0V0z\" fill=\"none\"/>\n",
              "    <path d=\"M18.56 5.44l.94 2.06.94-2.06 2.06-.94-2.06-.94-.94-2.06-.94 2.06-2.06.94zm-11 1L8.5 8.5l.94-2.06 2.06-.94-2.06-.94L8.5 2.5l-.94 2.06-2.06.94zm10 10l.94 2.06.94-2.06 2.06-.94-2.06-.94-.94-2.06-.94 2.06-2.06.94z\"/><path d=\"M17.41 7.96l-1.37-1.37c-.4-.4-.92-.59-1.43-.59-.52 0-1.04.2-1.43.59L10.3 9.45l-7.72 7.72c-.78.78-.78 2.05 0 2.83L4 21.41c.39.39.9.59 1.41.59.51 0 1.02-.2 1.41-.59l7.78-7.78 2.81-2.81c.8-.78.8-2.07 0-2.86zM5.41 20L4 18.59l7.72-7.72 1.47 1.35L5.41 20z\"/>\n",
              "  </svg>\n",
              "      </button>\n",
              "      \n",
              "  <style>\n",
              "    .colab-df-container {\n",
              "      display:flex;\n",
              "      flex-wrap:wrap;\n",
              "      gap: 12px;\n",
              "    }\n",
              "\n",
              "    .colab-df-convert {\n",
              "      background-color: #E8F0FE;\n",
              "      border: none;\n",
              "      border-radius: 50%;\n",
              "      cursor: pointer;\n",
              "      display: none;\n",
              "      fill: #1967D2;\n",
              "      height: 32px;\n",
              "      padding: 0 0 0 0;\n",
              "      width: 32px;\n",
              "    }\n",
              "\n",
              "    .colab-df-convert:hover {\n",
              "      background-color: #E2EBFA;\n",
              "      box-shadow: 0px 1px 2px rgba(60, 64, 67, 0.3), 0px 1px 3px 1px rgba(60, 64, 67, 0.15);\n",
              "      fill: #174EA6;\n",
              "    }\n",
              "\n",
              "    [theme=dark] .colab-df-convert {\n",
              "      background-color: #3B4455;\n",
              "      fill: #D2E3FC;\n",
              "    }\n",
              "\n",
              "    [theme=dark] .colab-df-convert:hover {\n",
              "      background-color: #434B5C;\n",
              "      box-shadow: 0px 1px 3px 1px rgba(0, 0, 0, 0.15);\n",
              "      filter: drop-shadow(0px 1px 2px rgba(0, 0, 0, 0.3));\n",
              "      fill: #FFFFFF;\n",
              "    }\n",
              "  </style>\n",
              "\n",
              "      <script>\n",
              "        const buttonEl =\n",
              "          document.querySelector('#df-59c67323-e99c-4d6b-a034-c92dbccd79c9 button.colab-df-convert');\n",
              "        buttonEl.style.display =\n",
              "          google.colab.kernel.accessAllowed ? 'block' : 'none';\n",
              "\n",
              "        async function convertToInteractive(key) {\n",
              "          const element = document.querySelector('#df-59c67323-e99c-4d6b-a034-c92dbccd79c9');\n",
              "          const dataTable =\n",
              "            await google.colab.kernel.invokeFunction('convertToInteractive',\n",
              "                                                     [key], {});\n",
              "          if (!dataTable) return;\n",
              "\n",
              "          const docLinkHtml = 'Like what you see? Visit the ' +\n",
              "            '<a target=\"_blank\" href=https://colab.research.google.com/notebooks/data_table.ipynb>data table notebook</a>'\n",
              "            + ' to learn more about interactive tables.';\n",
              "          element.innerHTML = '';\n",
              "          dataTable['output_type'] = 'display_data';\n",
              "          await google.colab.output.renderOutput(dataTable, element);\n",
              "          const docLink = document.createElement('div');\n",
              "          docLink.innerHTML = docLinkHtml;\n",
              "          element.appendChild(docLink);\n",
              "        }\n",
              "      </script>\n",
              "    </div>\n",
              "  </div>\n",
              "  "
            ]
          },
          "metadata": {},
          "execution_count": 20
        }
      ]
    },
    {
      "cell_type": "code",
      "source": [
        "\"\"\"\n",
        "Calculating PCA for each cluster\n",
        "\"\"\"\n",
        "# use variable clusters that was created in earlier steps\n",
        "print(\"PCA of cluster 1 through 5:\")\n",
        "for cluster in clusters:\n",
        "  pca = PCA()\n",
        "  pca.fit(cluster)\n",
        "  print(pca.components_)"
      ],
      "metadata": {
        "colab": {
          "base_uri": "https://localhost:8080/"
        },
        "id": "YTq26WwDPPpQ",
        "outputId": "ad69a3b2-af46-49f4-9d26-7855bfdcf98d"
      },
      "execution_count": 21,
      "outputs": [
        {
          "output_type": "stream",
          "name": "stdout",
          "text": [
            "PCA of cluster 1 through 5:\n",
            "[[ 0.99993527  0.01137789]\n",
            " [ 0.01137789 -0.99993527]]\n",
            "[[ 0.99992533  0.01222027]\n",
            " [ 0.01222027 -0.99992533]]\n",
            "[[ 0.99990986  0.01342629]\n",
            " [ 0.01342629 -0.99990986]]\n",
            "[[ 0.99993306  0.01157047]\n",
            " [-0.01157047  0.99993306]]\n",
            "[[-0.99989374 -0.01457781]\n",
            " [-0.01457781  0.99989374]]\n"
          ]
        }
      ]
    },
    {
      "cell_type": "markdown",
      "source": [
        "### Comparison between PCA aggregrate and PCA of each cluster\n",
        "PCA of Aggregate Data: <br>\n",
        "[[-0.99838317  0.05684225]\n",
        " [-0.05684225 -0.99838317]]\n",
        " \n",
        "<br>PCA for each cluster:\n",
        "\n",
        "cluster 1 <br>\n",
        "[[ 0.99993527  0.01137789]\n",
        " [ 0.01137789 -0.99993527]]\n",
        "\n",
        "cluster 2 <br>\n",
        "[[ 0.99992533  0.01222027]\n",
        " [ 0.01222027 -0.99992533]]\n",
        "\n",
        "cluster 3 <br>\n",
        "[[ 0.99990986  0.01342629]\n",
        " [ 0.01342629 -0.99990986]]\n",
        "\n",
        "cluster 4 <br>\n",
        "[[ 0.99993306  0.01157047]\n",
        " [-0.01157047  0.99993306]]\n",
        "\n",
        "cluster 5 <br>\n",
        "[[-0.99989374 -0.01457781]\n",
        " [-0.01457781  0.99989374]]"
      ],
      "metadata": {
        "id": "2g7ktKAsQTdm"
      }
    },
    {
      "cell_type": "markdown",
      "source": [
        "Observations: The PCAs of the clusters are similar to each other but different from the PCA of the aggregate data."
      ],
      "metadata": {
        "id": "OnJrMAIPyCpi"
      }
    },
    {
      "cell_type": "markdown",
      "source": [
        "### 2d) Take the eigenvector / eigenvalue decomposition of PT and subsequently, take their product.\n"
      ],
      "metadata": {
        "id": "0OBNIQaMRh3B"
      }
    },
    {
      "cell_type": "code",
      "source": [
        "P = np.array([[10.0, 0.5], [-10.0, 0.25]])\n",
        "eigval, eigvec = np.linalg.eig(P.T @ P)"
      ],
      "metadata": {
        "id": "5Tm7J2BJRu5v"
      },
      "execution_count": 22,
      "outputs": []
    },
    {
      "cell_type": "code",
      "source": [
        "print(eigval)"
      ],
      "metadata": {
        "colab": {
          "base_uri": "https://localhost:8080/"
        },
        "id": "2anzmLrfStTZ",
        "outputId": "95b9c3b6-2b8c-4434-e299-35f751ba1922"
      },
      "execution_count": 23,
      "outputs": [
        {
          "output_type": "stream",
          "name": "stdout",
          "text": [
            "[200.031294   0.281206]\n"
          ]
        }
      ]
    },
    {
      "cell_type": "code",
      "source": [
        "# Creating a diagonal matrix with the eigenvalues on the diagonal\n",
        "eigval_diagonal = np.diag(eigval)"
      ],
      "metadata": {
        "id": "c8yewvCbYN-I"
      },
      "execution_count": 24,
      "outputs": []
    },
    {
      "cell_type": "code",
      "source": [
        "# Check that we created a diagonal matrix\n",
        "print(eigval_diagonal)"
      ],
      "metadata": {
        "colab": {
          "base_uri": "https://localhost:8080/"
        },
        "id": "7TAKo2uFYnTA",
        "outputId": "6a9f4f6e-8af0-4fd3-b2d5-86f37707552a"
      },
      "execution_count": 25,
      "outputs": [
        {
          "output_type": "stream",
          "name": "stdout",
          "text": [
            "[[200.031294   0.      ]\n",
            " [  0.         0.281206]]\n"
          ]
        }
      ]
    },
    {
      "cell_type": "code",
      "source": [
        "print(eigvec)"
      ],
      "metadata": {
        "colab": {
          "base_uri": "https://localhost:8080/"
        },
        "id": "tOar1nXJSwiB",
        "outputId": "a724defc-eb1b-4094-85f5-19d91434c42c"
      },
      "execution_count": 26,
      "outputs": [
        {
          "output_type": "stream",
          "name": "stdout",
          "text": [
            "[[ 0.99992166 -0.01251662]\n",
            " [ 0.01251662  0.99992166]]\n"
          ]
        }
      ]
    },
    {
      "cell_type": "code",
      "source": [
        "P_prime = np.dot(eigval_diagonal, eigvec)\n",
        "P_prime"
      ],
      "metadata": {
        "colab": {
          "base_uri": "https://localhost:8080/"
        },
        "id": "aRHfXPrVS-g-",
        "outputId": "53ad2623-c319-4480-d5d8-a0a98e539170"
      },
      "execution_count": 27,
      "outputs": [
        {
          "output_type": "execute_result",
          "data": {
            "text/plain": [
              "array([[ 2.00015624e+02, -2.50371560e+00],\n",
              "       [ 3.51974851e-03,  2.81183971e-01]])"
            ]
          },
          "metadata": {},
          "execution_count": 27
        }
      ]
    }
  ]
}